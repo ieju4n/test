{
  "nbformat": 4,
  "nbformat_minor": 0,
  "metadata": {
    "colab": {
      "name": "projeto_final_DL_resultados.ipynb",
      "version": "0.3.2",
      "provenance": [],
      "collapsed_sections": [
        "FEDgl8Dmlury"
      ],
      "include_colab_link": true
    },
    "kernelspec": {
      "name": "python3",
      "display_name": "Python 3"
    },
    "accelerator": "GPU"
  },
  "cells": [
    {
      "cell_type": "markdown",
      "metadata": {
        "id": "view-in-github",
        "colab_type": "text"
      },
      "source": [
        "<a href=\"https://colab.research.google.com/github/ieju4n/test/blob/master/projeto_final_DL_resultados.ipynb\" target=\"_parent\"><img src=\"https://colab.research.google.com/assets/colab-badge.svg\" alt=\"Open In Colab\"/></a>"
      ]
    },
    {
      "cell_type": "markdown",
      "metadata": {
        "id": "_ichkaQU9wv0",
        "colab_type": "text"
      },
      "source": [
        "# Repo Deep Learning\n",
        "\n",
        "This repository is the implementation of a project, from the Deep Learning course taught by professor Filipe Cordeiro.\n",
        "\n",
        "## Purpose\n",
        "To build a classifier using the concepts learned in Deep Learnig to solve the classification problem from sensor arrays of artificial nose\n"
      ]
    },
    {
      "cell_type": "code",
      "metadata": {
        "id": "zAeaH-UMCgUC",
        "colab_type": "code",
        "outputId": "1bd3a68d-6247-4453-c5b4-664a046db6c1",
        "colab": {
          "base_uri": "https://localhost:8080/",
          "height": 153
        }
      },
      "source": [
        "!git clone https://github.com/IsmaelCesar/RepositorioDeepLearning.git"
      ],
      "execution_count": 0,
      "outputs": [
        {
          "output_type": "stream",
          "text": [
            "Cloning into 'RepositorioDeepLearning'...\n",
            "remote: Enumerating objects: 305, done.\u001b[K\n",
            "remote: Counting objects: 100% (305/305), done.\u001b[K\n",
            "remote: Compressing objects: 100% (238/238), done.\u001b[K\n",
            "remote: Total 305 (delta 105), reused 254 (delta 57), pack-reused 0\n",
            "Receiving objects: 100% (305/305), 171.39 MiB | 33.05 MiB/s, done.\n",
            "Resolving deltas: 100% (105/105), done.\n",
            "Checking out files: 100% (91/91), done.\n"
          ],
          "name": "stdout"
        }
      ]
    },
    {
      "cell_type": "code",
      "metadata": {
        "id": "cH1QOvNd-fQM",
        "colab_type": "code",
        "outputId": "4327e129-6ad7-42bc-9a81-f03e0c2caf72",
        "colab": {
          "base_uri": "https://localhost:8080/",
          "height": 34
        }
      },
      "source": [
        "import os\n",
        "import numpy as np\n",
        "import logging\n",
        "import pickle as pkl\n",
        "import keras\n",
        "from keras.layers import Conv2D\n",
        "from keras.models import Sequential\n",
        "from keras.layers import AveragePooling2D\n",
        "from keras.layers import MaxPooling2D\n",
        "from keras.layers import BatchNormalization\n",
        "from keras.layers import Flatten,Dropout,Add\n",
        "from keras.layers import Dense\n",
        "from keras.layers import Input\n",
        "from keras.models import Model\n",
        "from keras.layers.merge import concatenate\n",
        "\n",
        "import sklearn\n",
        "from sklearn.model_selection import train_test_split\n",
        "from sklearn.metrics import classification_report\n",
        "\n",
        "\n",
        "import matplotlib.pyplot as plt\n",
        "\n",
        "global data_folder,data_sets,ds_wine,extension\n",
        "global dataset_name,sub_dataset_name,experiments_folder\n",
        "\n",
        "data_folder = \"RepositorioDeepLearning/data/\"\n",
        "experiments_folder = \"RepositorioDeepLearning/implementations/results/\"\n",
        "dataset_name=\"\"\n",
        "sub_dataset_name=\"\""
      ],
      "execution_count": 0,
      "outputs": [
        {
          "output_type": "stream",
          "text": [
            "Using TensorFlow backend.\n"
          ],
          "name": "stderr"
        }
      ]
    },
    {
      "cell_type": "markdown",
      "metadata": {
        "id": "Z52U5zawDeNp",
        "colab_type": "text"
      },
      "source": [
        "### Data Loading resources"
      ]
    },
    {
      "cell_type": "code",
      "metadata": {
        "id": "3nhWulvJDFwR",
        "colab_type": "code",
        "colab": {}
      },
      "source": [
        "\n",
        "\n",
        "extension = \".pkl\"\n",
        "data_sets   = {\n",
        "    \"fonollosa\":{0:\"B1-system\",\n",
        "                 1:\"B2-system\",\n",
        "                 2:\"B3-system\",\n",
        "                 3:\"B4-system\",\n",
        "                 4:\"B5-system\",\n",
        "                 \"n_classes\":4\n",
        "                 },\n",
        "    \"turbulent_gas_mixtures\":{0:\"preloaded_dataset\",\"n_classes\":4},\n",
        "    \"windtunel\":{\n",
        "                0:\"preloaded_dataset-L1\",\n",
        "                1:\"preloaded_dataset-L2\",\n",
        "                2:\"preloaded_dataset-L3\",\n",
        "                3:\"preloaded_dataset-L4\",\n",
        "                4:\"preloaded_dataset-L5\",\n",
        "                5:\"preloaded_dataset-L6\",\n",
        "                \"n_classes\":11\n",
        "    },\n",
        "}\n",
        "ds_wine = {\"QWines-CsystemTR\":3,\n",
        "            \"QWinesEa-CsystemTR\":4}\n",
        "\n",
        "def load(ds_choice,ds_idx=0):\n",
        "    \"\"\"\n",
        "    choices : 0 -> fonollosa, 1 -> turbulent_gas_mixtures, 2 -> windtunel\n",
        "    :param ds_choice: the index naming the dataset chosen\n",
        "    :param ds_idx: the index if the folder containing the dataset has one or more datasets\n",
        "    :return: the dataset read,the labels and  the number of classes\n",
        "    \"\"\"\n",
        "    global data_folder, data_sets,extension,dataset_name,sub_dataset_name\n",
        "    assert ds_choice < 3\n",
        "    ds_name =list(data_sets.keys())[ds_choice]\n",
        "    dataset_name = ds_name+\"/\"\n",
        "\n",
        "    logging.info(ds_name +\" Is being loaded\")\n",
        "\n",
        "    n_classes  = data_sets[ds_name]['n_classes']\n",
        "\n",
        "    subds_name  = data_sets[ds_name][ds_idx]\n",
        "    sub_dataset_name = subds_name + \"/\"\n",
        "\n",
        "    data ,labels = None,None\n",
        "    with open(data_folder+ds_name+\"/\"+subds_name+extension,'rb') as d:\n",
        "        data,labels,_ = pkl.load(d)\n",
        "\n",
        "    return data,labels,n_classes,dataset_name,sub_dataset_name\n",
        "\n",
        "def load_wine(ds_choice):\n",
        "    \"\"\"\n",
        "    choices : 0 -> QWines-CsystemTR, 1 -> QWinesEa-CsystemTR\n",
        "    :param ds_choice: the index naming the dataset chosen\n",
        "    :param ds_idx: the index if the folder containing the dataset has one or more datasets\n",
        "    :return: the dataset read,the labels and  the number of classes\n",
        "    \"\"\"\n",
        "    global data_folder, ds_wine, extension\n",
        "\n",
        "    assert ds_choice < 2\n",
        "    ds_name = list(ds_wine.keys())[ds_choice]\n",
        "    dataset_name = ds_name+'/'\n",
        "\n",
        "    logging.info(ds_name + \" Is being loaded\")\n",
        "\n",
        "    n_classes = ds_wine[ds_name]\n",
        "\n",
        "    data,labels = None,None\n",
        "    with open(data_folder+\"wines/\"+ds_name+extension,\"rb\") as d:\n",
        "        data,labels,_,_ = pkl.load(d)\n",
        "\n",
        "    return data,labels,n_classes,dataset_name,sub_dataset_name\n",
        "\n"
      ],
      "execution_count": 0,
      "outputs": []
    },
    {
      "cell_type": "code",
      "metadata": {
        "id": "NiH3EN-REPJ3",
        "colab_type": "code",
        "colab": {}
      },
      "source": [
        "def data_set_reshaped(data_set):\n",
        "    newData = []\n",
        "    for d in data_set:\n",
        "        newData.append(d.reshape(d.shape[0], d.shape[1],1).tolist())\n",
        "    return np.array(newData)\n",
        "\n",
        "def load_and_split(ds_choice,ds_idx=0,read_wine_datasets=False):\n",
        "    # Loading dataset\n",
        "    global input_shape,n_classes,dataset_name,sub_dataset_name\n",
        "    data = None\n",
        "    labels = None\n",
        "    if not read_wine_datasets:\n",
        "        data, labels, n_classes,dataset_name,sub_dataset_name = load(ds_choice,ds_idx)\n",
        "    else:\n",
        "        data, labels, n_classes, dataset_name, sub_dataset_name = load_wine(ds_choice)\n",
        "\n",
        "    train_data, test_data,train_labels, test_labels = train_test_split(data,labels,test_size=.2)\n",
        "    train_data = data_set_reshaped(train_data)\n",
        "    test_data  = data_set_reshaped(test_data)\n",
        "\n",
        "    input_shape = train_data[0].shape\n",
        "\n",
        "    train_data,train_labels =   sklearn.utils.shuffle(train_data,train_labels)\n",
        "    test_data, test_labels = sklearn.utils.shuffle(test_data, test_labels)\n",
        "\n",
        "\n",
        "    return train_data,train_labels,test_data,test_labels"
      ],
      "execution_count": 0,
      "outputs": []
    },
    {
      "cell_type": "code",
      "metadata": {
        "id": "Tev9_C_6OHZv",
        "colab_type": "code",
        "colab": {}
      },
      "source": [
        "def standardize_data(train_data,test_data):\n",
        "    global input_shape\n",
        "    flat_train_data = train_data.reshape(train_data.shape[0], input_shape[0] * input_shape[1])\n",
        "    flat_test_data = test_data.reshape(test_data.shape[0], input_shape[0] * input_shape[1])\n",
        "    \n",
        "    scaler = sklearn.preprocessing.StandardScaler().fit(flat_train_data)\n",
        "    flat_train_data = scaler.transform(flat_train_data)\n",
        "    \n",
        "    scaler = sklearn.preprocessing.StandardScaler().fit(flat_test_data)\n",
        "    flat_test_data = scaler.transform(flat_test_data)\n",
        "    \n",
        "    new_train = flat_train_data.reshape(train_data.shape[0],input_shape[0],input_shape[1],1)\n",
        "    new_test = flat_test_data.reshape(test_data.shape[0], input_shape[0], input_shape[1], 1)\n",
        "    return new_train,new_test"
      ],
      "execution_count": 0,
      "outputs": []
    },
    {
      "cell_type": "code",
      "metadata": {
        "id": "IXhok4FGlWW-",
        "colab_type": "code",
        "colab": {}
      },
      "source": [
        "def split_datasamples_by_sensors(data):\n",
        "    shape = data.shape\n",
        "    new_split = []\n",
        "    #Iterate over data columns\n",
        "    for i in range(shape[2]):\n",
        "        new_split.append(data[:,:,i])\n",
        "        new_split[i] = new_split[i].reshape(new_split[i].shape[0],new_split[i].shape[1])\n",
        "    return new_split"
      ],
      "execution_count": 0,
      "outputs": []
    },
    {
      "cell_type": "markdown",
      "metadata": {
        "id": "T5HQ6vrgDmgU",
        "colab_type": "text"
      },
      "source": [
        "### Models Implementation"
      ]
    },
    {
      "cell_type": "code",
      "metadata": {
        "id": "LljkgGLN9k7P",
        "colab_type": "code",
        "colab": {}
      },
      "source": [
        "def sniffnet(input_shape,n_classes):\n",
        "  kernel  = (20,input_shape[1] // 2-1)\n",
        "  multiplier = 10\n",
        "  out_channels = 5*multiplier\n",
        "  #convolutional components\n",
        "  model = Sequential()\n",
        "  model.add(Conv2D(out_channels,kernel,input_shape=input_shape,use_bias=True,\n",
        "                   activation='relu',name='first_conv'))\n",
        "  model.add(BatchNormalization())\n",
        "  model.add(Dropout(0.25))\n",
        "  model.add(Conv2D(out_channels,kernel,use_bias=True,\n",
        "                   activation='relu',name='second_conv'))\n",
        "  model.add(BatchNormalization())\n",
        "  model.add(Dropout(0.25))\n",
        "  model.add(AveragePooling2D())\n",
        "  model.add(Flatten())\n",
        "  model.add(Dense(out_channels,use_bias=True,activation='relu',name=\"camada_fc1\"))\n",
        "  model.add(BatchNormalization())\n",
        "  model.add(Dense(n_classes,use_bias=True,activation='softmax',name=\"classificaiton\"))\n",
        "  \n",
        "  return model\n",
        "        \n",
        "  "
      ],
      "execution_count": 0,
      "outputs": []
    },
    {
      "cell_type": "code",
      "metadata": {
        "id": "9DaXw0HTRkA4",
        "colab_type": "code",
        "colab": {}
      },
      "source": [
        "def sniffresnet(input_shape,n_classes):\n",
        "\n",
        "    multiplier = 4\n",
        "    kernel = (9,input_shape[1] // 2 - 1)\n",
        "    out_channels = 5 * multiplier\n",
        "    # First Part of the convolution\n",
        "    X_input = Input(input_shape)\n",
        "    X_skip  = Conv2D(out_channels,kernel,activation='relu',name='first_conv1')(X_input)\n",
        "    X       = Conv2D(out_channels,kernel,padding='same',activation='relu',name='first_conv2')(X_skip)\n",
        "    X       = BatchNormalization()(X)\n",
        "    X       = Add()([X,X_skip])\n",
        "    X       = MaxPooling2D((10,1),name=\"max_pool1\")(X)\n",
        "    \n",
        "    # Second Part of the convolution\n",
        "    out_channels = out_channels * multiplier\n",
        "    X_skip = Conv2D(out_channels,kernel,activation='relu',name='second_conv1')(X)\n",
        "    X       = Conv2D(out_channels,kernel,padding='same',use_bias=True,activation='relu',name='second_conv2')(X_skip)\n",
        "    X       = BatchNormalization()(X)\n",
        "    X       = Add()([X,X_skip])\n",
        "    X       = MaxPooling2D((10,1),name=\"max_pool2\")(X)  \n",
        "    \n",
        "\n",
        "    # Fully Connected Part\n",
        "    X       = Flatten()(X)\n",
        "    X       = Dense(100,use_bias=True,activation=\"relu\",name=\"fc1\")(X)\n",
        "    X       = Dropout(.25)(X)\n",
        "    X       = Dense(n_classes,use_bias=True,activation=\"softmax\",name=\"class\")(X)\n",
        "\n",
        "    model = Model(inputs=X_input,outputs=X,name=\"SniffResnet\")\n",
        "\n",
        "    return model"
      ],
      "execution_count": 0,
      "outputs": []
    },
    {
      "cell_type": "code",
      "metadata": {
        "id": "RQ7OXXIclSU3",
        "colab_type": "code",
        "colab": {}
      },
      "source": [
        "def sniffmultinose(input_shape,n_classes):\n",
        "    inputs_list = []\n",
        "    multinose_out = []\n",
        "    for i in range(input_shape[1]):\n",
        "\n",
        "        X_input = Input((input_shape[0],),name=(\"input_nose_\"+str(i)))\n",
        "        inputs_list.append(X_input)\n",
        "        X = Dense(input_shape[0],input_shape=(input_shape[0],),\n",
        "                  use_bias=True,activation='relu',name=(\"fc1_nose_\" + str(i)))(X_input)\n",
        "        X = Dense(input_shape[0] // 4, use_bias=True, activation='tanh',name=(\"fc2_nose_\"+str(i)) )(X)\n",
        "        X = Dense(input_shape[0] // 8, use_bias=True, activation='tanh', name=(\"fc3_nose_\" + str(i)))(X)\n",
        "        multinose_out.append(X)\n",
        "\n",
        "    concat = concatenate(multinose_out)\n",
        "\n",
        "    X = Dense(100,activation='tanh',use_bias=True)(concat)\n",
        "    X = Dense(100,activation='relu',use_bias=True)(X)\n",
        "    X_out = Dense(n_classes,activation='softmax',name=\"class\")(X)\n",
        "\n",
        "    model  = Model(inputs=inputs_list,outputs=X_out,name=\"SniffNetMultiNose\")\n",
        "    return model"
      ],
      "execution_count": 0,
      "outputs": []
    },
    {
      "cell_type": "markdown",
      "metadata": {
        "id": "cBkU0QqwF-Yb",
        "colab_type": "text"
      },
      "source": [
        "### Create and train  models"
      ]
    },
    {
      "cell_type": "markdown",
      "metadata": {
        "id": "bMWDwJmIp9qo",
        "colab_type": "text"
      },
      "source": [
        "#### Evaluatin Models"
      ]
    },
    {
      "cell_type": "code",
      "metadata": {
        "id": "tkuIxVvbqA_1",
        "colab_type": "code",
        "colab": {}
      },
      "source": [
        "def evaluate_model(test_data,test_labels,batch_size,model,H):\n",
        "    ## Evaluating model\n",
        "    print(\"[INFO] Evaluating Network\")\n",
        "    super_exp_folder = experiments_folder + dataset_name\n",
        "    sub_exp_folder = experiments_folder + dataset_name + sub_dataset_name\n",
        "\n",
        "    if not os.path.exists(super_exp_folder):\n",
        "        os.mkdir(super_exp_folder)\n",
        "\n",
        "    if not os.path.exists(sub_exp_folder):\n",
        "        os.mkdir(sub_exp_folder)\n",
        "\n",
        "    with open(sub_exp_folder + \"eval.txt\", 'w+') as f:\n",
        "        predictions = model.predict(test_data, batch_size=batch_size)\n",
        "        value = classification_report(test_labels.argmax(axis=1),\n",
        "                                      predictions.argmax(axis=1))\n",
        "        #target_names=[str(x) for x in range(n_classes)]\n",
        "        print(value)\n",
        "        f.write(value)\n",
        "        f.close()\n",
        "\n",
        "    plt.style.use(\"ggplot\")\n",
        "    plt.figure()\n",
        "    plt.plot(np.arange(0, 20), H.history[\"loss\"], label=\"train_loss\")\n",
        "    plt.plot(np.arange(0, 20), H.history[\"val_loss\"], label=\"val_loss\")\n",
        "    plt.plot(np.arange(0, 20), H.history[\"acc\"], label=\"train_acc\")\n",
        "    plt.plot(np.arange(0, 20), H.history[\"val_acc\"], label=\"val_acc\")\n",
        "    plt.title(\"Training Loss and Accuracy\")\n",
        "    plt.xlabel(\"Epoch #\")\n",
        "    plt.ylabel(\"Loss/Accuracy\")\n",
        "    plt.legend()\n",
        "    plt.savefig(sub_exp_folder + \"LossAccComparison.png\")\n",
        "    plt.show()"
      ],
      "execution_count": 0,
      "outputs": []
    },
    {
      "cell_type": "markdown",
      "metadata": {
        "id": "3dCn_7Ek02kY",
        "colab_type": "text"
      },
      "source": [
        "#### Sniff ConvNets"
      ]
    },
    {
      "cell_type": "code",
      "metadata": {
        "id": "AOAjUTVlDs1_",
        "colab_type": "code",
        "outputId": "fa8b693e-1aa3-4df5-b0d7-8a3f83f20de9",
        "colab": {
          "base_uri": "https://localhost:8080/",
          "height": 1237
        }
      },
      "source": [
        "#Conv nets\n",
        "global input_shape,n_classes\n",
        "train_data,train_labels,test_data,test_labels = load_and_split(1,\n",
        "                                                              read_wine_datasets=True)\n",
        "\n",
        "train_data,test_data = standardize_data(train_data,test_data)\n",
        "\n",
        "batch_size  = 10\n",
        "epochs = 20\n",
        "lr = .001\n",
        "\n",
        "#model = sniffnet(input_shape,n_classes)\n",
        "model = sniffresnet(input_shape,n_classes)\n",
        "model.compile(loss=\"categorical_crossentropy\",\n",
        "              optimizer=keras.optimizers.SGD(lr=lr,momentum=.9),\n",
        "             metrics=['accuracy'])\n",
        "\n",
        "train_labels  = keras.utils.to_categorical(train_labels,n_classes)\n",
        "test_labels = keras.utils.to_categorical(test_labels, n_classes)\n",
        "\n",
        "print(\"[INFO] Training Network\")\n",
        "H = model.fit(train_data,train_labels,batch_size=batch_size,\n",
        "         epochs=epochs,verbose=1,validation_data=(test_data,test_labels))\n",
        "\n",
        "evaluate_model(test_data,test_labels,batch_size,model,H)\n"
      ],
      "execution_count": 0,
      "outputs": [
        {
          "output_type": "stream",
          "text": [
            "[INFO] Training Network\n",
            "Train on 240 samples, validate on 60 samples\n",
            "Epoch 1/20\n",
            "240/240 [==============================] - 1s 5ms/step - loss: 0.4582 - acc: 0.8500 - val_loss: 0.0486 - val_acc: 0.9833\n",
            "Epoch 2/20\n",
            "240/240 [==============================] - 0s 1ms/step - loss: 0.3498 - acc: 0.9250 - val_loss: 0.0110 - val_acc: 1.0000\n",
            "Epoch 3/20\n",
            "240/240 [==============================] - 0s 1ms/step - loss: 0.2613 - acc: 0.9375 - val_loss: 0.1239 - val_acc: 0.9667\n",
            "Epoch 4/20\n",
            "240/240 [==============================] - 0s 1ms/step - loss: 0.1138 - acc: 0.9625 - val_loss: 0.0700 - val_acc: 0.9667\n",
            "Epoch 5/20\n",
            "240/240 [==============================] - 0s 1ms/step - loss: 0.0824 - acc: 0.9792 - val_loss: 0.0124 - val_acc: 1.0000\n",
            "Epoch 6/20\n",
            "240/240 [==============================] - 0s 1ms/step - loss: 0.1010 - acc: 0.9792 - val_loss: 0.0781 - val_acc: 0.9667\n",
            "Epoch 7/20\n",
            "240/240 [==============================] - 0s 1ms/step - loss: 0.1269 - acc: 0.9625 - val_loss: 0.0195 - val_acc: 1.0000\n",
            "Epoch 8/20\n",
            "240/240 [==============================] - 0s 1ms/step - loss: 0.0660 - acc: 0.9917 - val_loss: 0.0159 - val_acc: 1.0000\n",
            "Epoch 9/20\n",
            "240/240 [==============================] - 0s 1ms/step - loss: 0.0805 - acc: 0.9792 - val_loss: 0.0089 - val_acc: 1.0000\n",
            "Epoch 10/20\n",
            "240/240 [==============================] - 0s 1ms/step - loss: 0.0244 - acc: 0.9917 - val_loss: 0.0101 - val_acc: 1.0000\n",
            "Epoch 11/20\n",
            "240/240 [==============================] - 0s 1ms/step - loss: 0.0067 - acc: 1.0000 - val_loss: 0.0085 - val_acc: 1.0000\n",
            "Epoch 12/20\n",
            "240/240 [==============================] - 0s 1ms/step - loss: 0.0166 - acc: 0.9917 - val_loss: 0.0126 - val_acc: 1.0000\n",
            "Epoch 13/20\n",
            "240/240 [==============================] - 0s 1ms/step - loss: 0.0143 - acc: 0.9958 - val_loss: 0.0149 - val_acc: 1.0000\n",
            "Epoch 14/20\n",
            "240/240 [==============================] - 0s 1ms/step - loss: 0.0359 - acc: 0.9875 - val_loss: 0.0113 - val_acc: 1.0000\n",
            "Epoch 15/20\n",
            "240/240 [==============================] - 0s 1ms/step - loss: 0.0222 - acc: 0.9875 - val_loss: 0.0128 - val_acc: 1.0000\n",
            "Epoch 16/20\n",
            "240/240 [==============================] - 0s 1ms/step - loss: 0.0028 - acc: 1.0000 - val_loss: 0.0040 - val_acc: 1.0000\n",
            "Epoch 17/20\n",
            "240/240 [==============================] - 0s 1ms/step - loss: 0.0082 - acc: 0.9958 - val_loss: 0.0069 - val_acc: 1.0000\n",
            "Epoch 18/20\n",
            "240/240 [==============================] - 0s 1ms/step - loss: 0.0107 - acc: 0.9958 - val_loss: 0.0040 - val_acc: 1.0000\n",
            "Epoch 19/20\n",
            "240/240 [==============================] - 0s 1ms/step - loss: 0.0085 - acc: 1.0000 - val_loss: 0.0045 - val_acc: 1.0000\n",
            "Epoch 20/20\n",
            "240/240 [==============================] - 0s 1ms/step - loss: 0.0031 - acc: 1.0000 - val_loss: 0.0049 - val_acc: 1.0000\n",
            "[INFO] Evaluating Network\n",
            "              precision    recall  f1-score   support\n",
            "\n",
            "           0       1.00      1.00      1.00        12\n",
            "           1       1.00      1.00      1.00        12\n",
            "           2       1.00      1.00      1.00         9\n",
            "           3       1.00      1.00      1.00        27\n",
            "\n",
            "    accuracy                           1.00        60\n",
            "   macro avg       1.00      1.00      1.00        60\n",
            "weighted avg       1.00      1.00      1.00        60\n",
            "\n"
          ],
          "name": "stdout"
        },
        {
          "output_type": "display_data",
          "data": {
            "image/png": "[encoded data removed]",
            "text/plain": [
              "<Figure size 432x288 with 1 Axes>"
            ]
          },
          "metadata": {
            "tags": []
          }
        }
      ]
    },
    {
      "cell_type": "markdown",
      "metadata": {
        "id": "FEDgl8Dmlury",
        "colab_type": "text"
      },
      "source": [
        "#### Funsion SniffNet"
      ]
    },
    {
      "cell_type": "code",
      "metadata": {
        "id": "9Eep6XH8lesn",
        "colab_type": "code",
        "outputId": "7c9a185e-8aae-41b1-c876-b660d4ce9b1a",
        "colab": {
          "base_uri": "https://localhost:8080/",
          "height": 1220
        }
      },
      "source": [
        "#Fusion SniffNet\n",
        "global n_classes, input_shape\n",
        "train_data, train_labels, test_data, test_labels = load_and_split(1,\n",
        "                                                                  read_wine_datasets=True)\n",
        "                                                                 \n",
        "\n",
        "# normalizing data\n",
        "train_data, test_data = standardize_data(train_data, test_data)\n",
        "\n",
        "train_data = split_datasamples_by_sensors(train_data)\n",
        "test_data = split_datasamples_by_sensors(test_data)\n",
        "\n",
        "batch_size = 10\n",
        "epochs = 20\n",
        "lr = .001\n",
        "\n",
        "train_labels = keras.utils.to_categorical(train_labels, n_classes)\n",
        "test_labels = keras.utils.to_categorical(test_labels, n_classes)\n",
        "# defining model\n",
        "model = sniffmultinose(input_shape, n_classes)\n",
        "\n",
        "model.compile(loss=\"categorical_crossentropy\",\n",
        "              optimizer=keras.optimizers.SGD(lr=lr, momentum=.9),\n",
        "              metrics=['accuracy'])\n",
        "\n",
        "\n",
        "H = model.fit(train_data, train_labels, batch_size=batch_size,\n",
        "              epochs=epochs, verbose=1, validation_data=(test_data, test_labels))\n",
        "\n",
        "evaluate_model(test_data, test_labels, batch_size, model, H)"
      ],
      "execution_count": 0,
      "outputs": [
        {
          "output_type": "stream",
          "text": [
            "Train on 240 samples, validate on 60 samples\n",
            "Epoch 1/20\n",
            "240/240 [==============================] - 2s 7ms/step - loss: 0.6854 - acc: 0.7625 - val_loss: 0.2617 - val_acc: 0.9333\n",
            "Epoch 2/20\n",
            "240/240 [==============================] - 0s 1ms/step - loss: 0.2337 - acc: 0.9417 - val_loss: 0.1631 - val_acc: 0.9667\n",
            "Epoch 3/20\n",
            "240/240 [==============================] - 0s 1ms/step - loss: 0.1415 - acc: 0.9667 - val_loss: 0.1168 - val_acc: 0.9833\n",
            "Epoch 4/20\n",
            "240/240 [==============================] - 0s 1ms/step - loss: 0.1058 - acc: 0.9833 - val_loss: 0.0971 - val_acc: 0.9833\n",
            "Epoch 5/20\n",
            "240/240 [==============================] - 0s 1ms/step - loss: 0.0858 - acc: 0.9875 - val_loss: 0.0751 - val_acc: 0.9833\n",
            "Epoch 6/20\n",
            "240/240 [==============================] - 0s 1ms/step - loss: 0.0719 - acc: 0.9875 - val_loss: 0.0661 - val_acc: 1.0000\n",
            "Epoch 7/20\n",
            "240/240 [==============================] - 0s 1ms/step - loss: 0.0624 - acc: 0.9875 - val_loss: 0.0592 - val_acc: 1.0000\n",
            "Epoch 8/20\n",
            "240/240 [==============================] - 0s 1ms/step - loss: 0.0554 - acc: 0.9917 - val_loss: 0.0563 - val_acc: 1.0000\n",
            "Epoch 9/20\n",
            "240/240 [==============================] - 0s 1ms/step - loss: 0.0490 - acc: 0.9917 - val_loss: 0.0496 - val_acc: 1.0000\n",
            "Epoch 10/20\n",
            "240/240 [==============================] - 0s 1ms/step - loss: 0.0446 - acc: 0.9958 - val_loss: 0.0459 - val_acc: 1.0000\n",
            "Epoch 11/20\n",
            "240/240 [==============================] - 0s 1ms/step - loss: 0.0411 - acc: 0.9917 - val_loss: 0.0428 - val_acc: 1.0000\n",
            "Epoch 12/20\n",
            "240/240 [==============================] - 0s 1ms/step - loss: 0.0374 - acc: 0.9958 - val_loss: 0.0436 - val_acc: 1.0000\n",
            "Epoch 13/20\n",
            "240/240 [==============================] - 0s 1ms/step - loss: 0.0338 - acc: 0.9958 - val_loss: 0.0376 - val_acc: 1.0000\n",
            "Epoch 14/20\n",
            "240/240 [==============================] - 0s 1ms/step - loss: 0.0318 - acc: 0.9958 - val_loss: 0.0396 - val_acc: 1.0000\n",
            "Epoch 15/20\n",
            "240/240 [==============================] - 0s 1ms/step - loss: 0.0281 - acc: 0.9958 - val_loss: 0.0366 - val_acc: 1.0000\n",
            "Epoch 16/20\n",
            "240/240 [==============================] - 0s 1ms/step - loss: 0.0255 - acc: 0.9958 - val_loss: 0.0336 - val_acc: 1.0000\n",
            "Epoch 17/20\n",
            "240/240 [==============================] - 0s 1ms/step - loss: 0.0238 - acc: 0.9958 - val_loss: 0.0326 - val_acc: 1.0000\n",
            "Epoch 18/20\n",
            "240/240 [==============================] - 0s 1ms/step - loss: 0.0219 - acc: 0.9958 - val_loss: 0.0328 - val_acc: 1.0000\n",
            "Epoch 19/20\n",
            "240/240 [==============================] - 0s 1ms/step - loss: 0.0204 - acc: 0.9958 - val_loss: 0.0300 - val_acc: 1.0000\n",
            "Epoch 20/20\n",
            "240/240 [==============================] - 0s 1ms/step - loss: 0.0193 - acc: 0.9958 - val_loss: 0.0298 - val_acc: 1.0000\n",
            "[INFO] Evaluating Network\n",
            "              precision    recall  f1-score   support\n",
            "\n",
            "           0       1.00      1.00      1.00         4\n",
            "           1       1.00      1.00      1.00        10\n",
            "           2       1.00      1.00      1.00        13\n",
            "           3       1.00      1.00      1.00        33\n",
            "\n",
            "    accuracy                           1.00        60\n",
            "   macro avg       1.00      1.00      1.00        60\n",
            "weighted avg       1.00      1.00      1.00        60\n",
            "\n"
          ],
          "name": "stdout"
        },
        {
          "output_type": "display_data",
          "data": {
            "image/png": "[encoded data removed]",
            "text/plain": [
              "<Figure size 432x288 with 1 Axes>"
            ]
          },
          "metadata": {
            "tags": []
          }
        }
      ]
    }
  ]
}